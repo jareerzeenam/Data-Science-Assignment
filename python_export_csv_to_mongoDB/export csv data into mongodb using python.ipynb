{
 "cells": [
  {
   "cell_type": "code",
   "execution_count": 8,
   "metadata": {},
   "outputs": [],
   "source": [
    "try:\n",
    "    import pymongo\n",
    "    from pymongo import MongoClient\n",
    "    import pandas as pd\n",
    "    import json\n",
    "except Exception as e:\n",
    "    print(\"Some Modules are Missing\")"
   ]
  },
  {
   "cell_type": "code",
   "execution_count": 6,
   "metadata": {},
   "outputs": [
    {
     "name": "stdout",
     "output_type": "stream",
     "text": [
      "All the Data has been Exportef to MongoDB Successfully\n"
     ]
    }
   ],
   "source": [
    "class MongoDB(object):\n",
    "    def __init__(self, dBName=None, collectionName=None):\n",
    "\n",
    "        self.dBName = dBName\n",
    "        self.collectionName = collectionName\n",
    "\n",
    "        self.client = MongoClient(\"localhost\", 27017, maxPoolSize=50)\n",
    "\n",
    "        self.DB = self.client[self.dBName]\n",
    "        self.collection = self.DB[self.collectionName]\n",
    "\n",
    "    def InsertData(self, path=None):\n",
    "        \"\"\"\n",
    "        :param path: Path of CSV file\n",
    "        :return:None\n",
    "        \"\"\"\n",
    "\n",
    "        df = pd.read_csv(path)\n",
    "        data = df.to_dict('records')\n",
    "\n",
    "        self.collection.insert_many(data, ordered=False)\n",
    "        print(\"All the Data has been Exportef to MongoDB Successfully\")\n",
    "\n",
    "\n",
    "if __name__ == \"__main__\":\n",
    "    mongodb = MongoDB(dBName='Dataset', collectionName='GlobalTemperature')\n",
    "    mongodb.InsertData(\n",
    "        path=\"global-temperature-1.csv\")\n"
   ]
  },
  {
   "cell_type": "code",
   "execution_count": null,
   "metadata": {},
   "outputs": [],
   "source": []
  }
 ],
 "metadata": {
  "kernelspec": {
   "display_name": "Python 3",
   "language": "python",
   "name": "python3"
  },
  "language_info": {
   "codemirror_mode": {
    "name": "ipython",
    "version": 3
   },
   "file_extension": ".py",
   "mimetype": "text/x-python",
   "name": "python",
   "nbconvert_exporter": "python",
   "pygments_lexer": "ipython3",
   "version": "3.7.4"
  }
 },
 "nbformat": 4,
 "nbformat_minor": 2
}
